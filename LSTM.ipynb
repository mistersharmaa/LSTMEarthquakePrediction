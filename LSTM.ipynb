{
 "cells": [
  {
   "cell_type": "code",
   "execution_count": 5,
   "metadata": {},
   "outputs": [
    {
     "name": "stderr",
     "output_type": "stream",
     "text": [
      "/anaconda3/lib/python3.6/site-packages/h5py/__init__.py:36: FutureWarning: Conversion of the second argument of issubdtype from `float` to `np.floating` is deprecated. In future, it will be treated as `np.float64 == np.dtype(float).type`.\n",
      "  from ._conv import register_converters as _register_converters\n",
      "Using TensorFlow backend.\n",
      "/anaconda3/lib/python3.6/site-packages/sklearn/cross_validation.py:41: DeprecationWarning: This module was deprecated in version 0.18 in favor of the model_selection module into which all the refactored classes and functions are moved. Also note that the interface of the new CV iterators are different from that of this module. This module will be removed in 0.20.\n",
      "  \"This module will be removed in 0.20.\", DeprecationWarning)\n"
     ]
    },
    {
     "name": "stdout",
     "output_type": "stream",
     "text": [
      "AIESEC\n",
      "Booking Confirmation.pdf\n",
      "CMP(orig)\n",
      "ECG Project Report Version_4_2ndOct.pdf\n",
      "ESSAY_STUFF.pages\n",
      "GMAT\n",
      "GX010030.MP4\n",
      "ISB_ Indian School of Business _ Payment Details.pdf\n",
      "ISB_ Indian School of Business _ Print Form.pdf\n",
      "ISB_STATEMENT_OF_AUTHORISATION.pdf\n",
      "ISB_STATEMENT_OF_INTEGRITY.pdf\n",
      "Minor_SpatialDataMining\n",
      "New Doc 2019-02-01 12.31.04.pdf\n",
      "New Doc 2019-02-12 19.52.12.pdf\n",
      "PROJECT_SEM6.rar\n",
      "RAJESH_SEEMA_TRAVEL_INSURANCE.pdf\n",
      "SONGS_ENGAGEMENT\n",
      "Screen Shot 2019-01-11 at 8.31.37 PM.png\n",
      "Screen Shot 2019-03-22 at 7.24.42 PM.png\n",
      "Screen Shot 2019-03-23 at 5.35.58 PM.png\n",
      "WhatsApp Image 2019-02-13 at 6.31.42 PM.jpeg\n",
      "ZS_CAMPUS_BEATS_CHALLENGE\n",
      "a.out\n",
      "college_stuff\n",
      "compilerSynopsis_new.pdf\n",
      "database.csv\n",
      "delhi peace marathon\n",
      "randomphotos\n",
      "umf13d_073.jpg\n",
      "untitled folder\n",
      "untitled folder 3\n",
      "\n"
     ]
    }
   ],
   "source": [
    "import numpy as np \n",
    "import pandas as pd \n",
    "\n",
    "from subprocess import check_output\n",
    "from keras.layers.core import Dense, Activation, Dropout\n",
    "from keras.layers.recurrent import LSTM\n",
    "from keras.models import Sequential\n",
    "from sklearn.cross_validation import  train_test_split\n",
    "import time \n",
    "from sklearn.preprocessing import MinMaxScaler\n",
    "import matplotlib.pyplot as plt\n",
    "from numpy import newaxis\n",
    "from geopy.geocoders import Nominatim\n",
    "\n",
    "%matplotlib inline\n",
    "import warnings\n",
    "warnings.filterwarnings('ignore')\n",
    "%config InlineBackend.figure_format = 'retina'\n",
    "\n",
    "\n",
    "from subprocess import check_output\n",
    "print(check_output([\"ls\", \"/Users/mistersharma/Desktop\"]).decode(\"utf8\"))\n",
    "\n"
   ]
  },
  {
   "cell_type": "code",
   "execution_count": 6,
   "metadata": {},
   "outputs": [
    {
     "data": {
      "text/html": [
       "<div>\n",
       "<style scoped>\n",
       "    .dataframe tbody tr th:only-of-type {\n",
       "        vertical-align: middle;\n",
       "    }\n",
       "\n",
       "    .dataframe tbody tr th {\n",
       "        vertical-align: top;\n",
       "    }\n",
       "\n",
       "    .dataframe thead th {\n",
       "        text-align: right;\n",
       "    }\n",
       "</style>\n",
       "<table border=\"1\" class=\"dataframe\">\n",
       "  <thead>\n",
       "    <tr style=\"text-align: right;\">\n",
       "      <th></th>\n",
       "      <th>Date</th>\n",
       "      <th>Time</th>\n",
       "      <th>Latitude</th>\n",
       "      <th>Longitude</th>\n",
       "      <th>Type</th>\n",
       "      <th>Depth</th>\n",
       "      <th>Depth Error</th>\n",
       "      <th>Depth Seismic Stations</th>\n",
       "      <th>Magnitude</th>\n",
       "      <th>Magnitude Type</th>\n",
       "      <th>...</th>\n",
       "      <th>Magnitude Seismic Stations</th>\n",
       "      <th>Azimuthal Gap</th>\n",
       "      <th>Horizontal Distance</th>\n",
       "      <th>Horizontal Error</th>\n",
       "      <th>Root Mean Square</th>\n",
       "      <th>ID</th>\n",
       "      <th>Source</th>\n",
       "      <th>Location Source</th>\n",
       "      <th>Magnitude Source</th>\n",
       "      <th>Status</th>\n",
       "    </tr>\n",
       "  </thead>\n",
       "  <tbody>\n",
       "    <tr>\n",
       "      <th>0</th>\n",
       "      <td>01/02/1965</td>\n",
       "      <td>13:44:18</td>\n",
       "      <td>19.246</td>\n",
       "      <td>145.616</td>\n",
       "      <td>Earthquake</td>\n",
       "      <td>131.6</td>\n",
       "      <td>NaN</td>\n",
       "      <td>NaN</td>\n",
       "      <td>6.0</td>\n",
       "      <td>MW</td>\n",
       "      <td>...</td>\n",
       "      <td>NaN</td>\n",
       "      <td>NaN</td>\n",
       "      <td>NaN</td>\n",
       "      <td>NaN</td>\n",
       "      <td>NaN</td>\n",
       "      <td>ISCGEM860706</td>\n",
       "      <td>ISCGEM</td>\n",
       "      <td>ISCGEM</td>\n",
       "      <td>ISCGEM</td>\n",
       "      <td>Automatic</td>\n",
       "    </tr>\n",
       "    <tr>\n",
       "      <th>1</th>\n",
       "      <td>01/04/1965</td>\n",
       "      <td>11:29:49</td>\n",
       "      <td>1.863</td>\n",
       "      <td>127.352</td>\n",
       "      <td>Earthquake</td>\n",
       "      <td>80.0</td>\n",
       "      <td>NaN</td>\n",
       "      <td>NaN</td>\n",
       "      <td>5.8</td>\n",
       "      <td>MW</td>\n",
       "      <td>...</td>\n",
       "      <td>NaN</td>\n",
       "      <td>NaN</td>\n",
       "      <td>NaN</td>\n",
       "      <td>NaN</td>\n",
       "      <td>NaN</td>\n",
       "      <td>ISCGEM860737</td>\n",
       "      <td>ISCGEM</td>\n",
       "      <td>ISCGEM</td>\n",
       "      <td>ISCGEM</td>\n",
       "      <td>Automatic</td>\n",
       "    </tr>\n",
       "    <tr>\n",
       "      <th>2</th>\n",
       "      <td>01/05/1965</td>\n",
       "      <td>18:05:58</td>\n",
       "      <td>-20.579</td>\n",
       "      <td>-173.972</td>\n",
       "      <td>Earthquake</td>\n",
       "      <td>20.0</td>\n",
       "      <td>NaN</td>\n",
       "      <td>NaN</td>\n",
       "      <td>6.2</td>\n",
       "      <td>MW</td>\n",
       "      <td>...</td>\n",
       "      <td>NaN</td>\n",
       "      <td>NaN</td>\n",
       "      <td>NaN</td>\n",
       "      <td>NaN</td>\n",
       "      <td>NaN</td>\n",
       "      <td>ISCGEM860762</td>\n",
       "      <td>ISCGEM</td>\n",
       "      <td>ISCGEM</td>\n",
       "      <td>ISCGEM</td>\n",
       "      <td>Automatic</td>\n",
       "    </tr>\n",
       "    <tr>\n",
       "      <th>3</th>\n",
       "      <td>01/08/1965</td>\n",
       "      <td>18:49:43</td>\n",
       "      <td>-59.076</td>\n",
       "      <td>-23.557</td>\n",
       "      <td>Earthquake</td>\n",
       "      <td>15.0</td>\n",
       "      <td>NaN</td>\n",
       "      <td>NaN</td>\n",
       "      <td>5.8</td>\n",
       "      <td>MW</td>\n",
       "      <td>...</td>\n",
       "      <td>NaN</td>\n",
       "      <td>NaN</td>\n",
       "      <td>NaN</td>\n",
       "      <td>NaN</td>\n",
       "      <td>NaN</td>\n",
       "      <td>ISCGEM860856</td>\n",
       "      <td>ISCGEM</td>\n",
       "      <td>ISCGEM</td>\n",
       "      <td>ISCGEM</td>\n",
       "      <td>Automatic</td>\n",
       "    </tr>\n",
       "    <tr>\n",
       "      <th>4</th>\n",
       "      <td>01/09/1965</td>\n",
       "      <td>13:32:50</td>\n",
       "      <td>11.938</td>\n",
       "      <td>126.427</td>\n",
       "      <td>Earthquake</td>\n",
       "      <td>15.0</td>\n",
       "      <td>NaN</td>\n",
       "      <td>NaN</td>\n",
       "      <td>5.8</td>\n",
       "      <td>MW</td>\n",
       "      <td>...</td>\n",
       "      <td>NaN</td>\n",
       "      <td>NaN</td>\n",
       "      <td>NaN</td>\n",
       "      <td>NaN</td>\n",
       "      <td>NaN</td>\n",
       "      <td>ISCGEM860890</td>\n",
       "      <td>ISCGEM</td>\n",
       "      <td>ISCGEM</td>\n",
       "      <td>ISCGEM</td>\n",
       "      <td>Automatic</td>\n",
       "    </tr>\n",
       "  </tbody>\n",
       "</table>\n",
       "<p>5 rows × 21 columns</p>\n",
       "</div>"
      ],
      "text/plain": [
       "         Date      Time  Latitude  Longitude        Type  Depth  Depth Error  \\\n",
       "0  01/02/1965  13:44:18    19.246    145.616  Earthquake  131.6          NaN   \n",
       "1  01/04/1965  11:29:49     1.863    127.352  Earthquake   80.0          NaN   \n",
       "2  01/05/1965  18:05:58   -20.579   -173.972  Earthquake   20.0          NaN   \n",
       "3  01/08/1965  18:49:43   -59.076    -23.557  Earthquake   15.0          NaN   \n",
       "4  01/09/1965  13:32:50    11.938    126.427  Earthquake   15.0          NaN   \n",
       "\n",
       "   Depth Seismic Stations  Magnitude Magnitude Type    ...      \\\n",
       "0                     NaN        6.0             MW    ...       \n",
       "1                     NaN        5.8             MW    ...       \n",
       "2                     NaN        6.2             MW    ...       \n",
       "3                     NaN        5.8             MW    ...       \n",
       "4                     NaN        5.8             MW    ...       \n",
       "\n",
       "   Magnitude Seismic Stations  Azimuthal Gap  Horizontal Distance  \\\n",
       "0                         NaN            NaN                  NaN   \n",
       "1                         NaN            NaN                  NaN   \n",
       "2                         NaN            NaN                  NaN   \n",
       "3                         NaN            NaN                  NaN   \n",
       "4                         NaN            NaN                  NaN   \n",
       "\n",
       "   Horizontal Error  Root Mean Square            ID  Source Location Source  \\\n",
       "0               NaN               NaN  ISCGEM860706  ISCGEM          ISCGEM   \n",
       "1               NaN               NaN  ISCGEM860737  ISCGEM          ISCGEM   \n",
       "2               NaN               NaN  ISCGEM860762  ISCGEM          ISCGEM   \n",
       "3               NaN               NaN  ISCGEM860856  ISCGEM          ISCGEM   \n",
       "4               NaN               NaN  ISCGEM860890  ISCGEM          ISCGEM   \n",
       "\n",
       "  Magnitude Source     Status  \n",
       "0           ISCGEM  Automatic  \n",
       "1           ISCGEM  Automatic  \n",
       "2           ISCGEM  Automatic  \n",
       "3           ISCGEM  Automatic  \n",
       "4           ISCGEM  Automatic  \n",
       "\n",
       "[5 rows x 21 columns]"
      ]
     },
     "execution_count": 6,
     "metadata": {},
     "output_type": "execute_result"
    }
   ],
   "source": [
    "eq_dataset =  pd.read_csv(\"/Users/mistersharma/Desktop/database.csv\", header=0)\n",
    "eq_dataset.head()"
   ]
  },
  {
   "cell_type": "code",
   "execution_count": 7,
   "metadata": {},
   "outputs": [
    {
     "name": "stdout",
     "output_type": "stream",
     "text": [
      "23412\n"
     ]
    }
   ],
   "source": [
    "print(len(eq_dataset[[\"Latitude\",\"Longitude\",\"Magnitude\"]]))"
   ]
  },
  {
   "cell_type": "code",
   "execution_count": 8,
   "metadata": {},
   "outputs": [
    {
     "data": {
      "text/html": [
       "<div>\n",
       "<style scoped>\n",
       "    .dataframe tbody tr th:only-of-type {\n",
       "        vertical-align: middle;\n",
       "    }\n",
       "\n",
       "    .dataframe tbody tr th {\n",
       "        vertical-align: top;\n",
       "    }\n",
       "\n",
       "    .dataframe thead th {\n",
       "        text-align: right;\n",
       "    }\n",
       "</style>\n",
       "<table border=\"1\" class=\"dataframe\">\n",
       "  <thead>\n",
       "    <tr style=\"text-align: right;\">\n",
       "      <th></th>\n",
       "      <th>Latitude</th>\n",
       "      <th>Longitude</th>\n",
       "      <th>Magnitude</th>\n",
       "    </tr>\n",
       "  </thead>\n",
       "  <tbody>\n",
       "    <tr>\n",
       "      <th>1</th>\n",
       "      <td>1.863</td>\n",
       "      <td>127.352</td>\n",
       "      <td>5.8</td>\n",
       "    </tr>\n",
       "  </tbody>\n",
       "</table>\n",
       "</div>"
      ],
      "text/plain": [
       "   Latitude  Longitude  Magnitude\n",
       "1     1.863    127.352        5.8"
      ]
     },
     "execution_count": 8,
     "metadata": {},
     "output_type": "execute_result"
    }
   ],
   "source": [
    "eq_dataset[[\"Latitude\",\"Longitude\",\"Magnitude\"]][1:2]"
   ]
  },
  {
   "cell_type": "code",
   "execution_count": 9,
   "metadata": {},
   "outputs": [],
   "source": [
    "final_dataset = eq_dataset[[\"Latitude\",\"Longitude\",\"Magnitude\"]]"
   ]
  },
  {
   "cell_type": "code",
   "execution_count": 10,
   "metadata": {},
   "outputs": [
    {
     "data": {
      "text/plain": [
       "array([[ 19.246, 145.616,   6.   ]])"
      ]
     },
     "execution_count": 10,
     "metadata": {},
     "output_type": "execute_result"
    }
   ],
   "source": [
    "np.array(final_dataset[0:1])"
   ]
  },
  {
   "cell_type": "code",
   "execution_count": 11,
   "metadata": {},
   "outputs": [
    {
     "name": "stdout",
     "output_type": "stream",
     "text": [
      "18729 4683\n"
     ]
    }
   ],
   "source": [
    "train_size = int(len(final_dataset) * 0.80)\n",
    "test_size = len(final_dataset) - train_size\n",
    "train, test = final_dataset[0:train_size], final_dataset[train_size:len(final_dataset)]\n",
    "print(len(train), len(test))"
   ]
  },
  {
   "cell_type": "code",
   "execution_count": 12,
   "metadata": {},
   "outputs": [],
   "source": [
    "def create_dataset(dataset, look_back=1):\n",
    "\tdataX, dataY = [], []\n",
    "    \n",
    "\tfor i in range(len(dataset)-look_back-1):\n",
    "\t\ta = dataset[i:(i+look_back)]\n",
    "\t\tdataX.append(np.array(a))\n",
    "\t\tdataY.append(np.array(dataset[i + look_back:i+look_back+1]))\n",
    "        \n",
    "\treturn np.array(dataX),np.array(dataY)"
   ]
  },
  {
   "cell_type": "code",
   "execution_count": 13,
   "metadata": {},
   "outputs": [],
   "source": [
    "look_back = 50\n",
    "trainX, trainY = create_dataset(train, look_back)"
   ]
  },
  {
   "cell_type": "code",
   "execution_count": 14,
   "metadata": {},
   "outputs": [
    {
     "name": "stdout",
     "output_type": "stream",
     "text": [
      "(18678, 50, 3)\n",
      "(18678, 1, 3)\n"
     ]
    }
   ],
   "source": [
    "print(trainX.shape)\n",
    "print(trainY.shape)"
   ]
  },
  {
   "cell_type": "code",
   "execution_count": 15,
   "metadata": {},
   "outputs": [
    {
     "name": "stdout",
     "output_type": "stream",
     "text": [
      "compilation time :  0.03558611869812012\n"
     ]
    }
   ],
   "source": [
    "model = Sequential()\n",
    "model.reset_states()\n",
    "\n",
    "model.add(LSTM(\n",
    "    input_dim=3,\n",
    "    output_dim=100,\n",
    "    return_sequences=True))\n",
    "model.add(Dropout(0.2))\n",
    "\n",
    "model.add(LSTM(\n",
    "    100,\n",
    "    return_sequences=True))\n",
    "model.add(Dropout(0.2))\n",
    "\n",
    "model.add(Dense(\n",
    "    output_dim=3))\n",
    "model.add(Activation('linear'))\n",
    "\n",
    "start = time.time()\n",
    "model.compile(loss='mse', optimizer='adam')\n",
    "print ('compilation time : ', time.time() - start)\n",
    "\n"
   ]
  },
  {
   "cell_type": "code",
   "execution_count": 16,
   "metadata": {},
   "outputs": [
    {
     "name": "stdout",
     "output_type": "stream",
     "text": [
      "Train on 17744 samples, validate on 934 samples\n",
      "Epoch 1/1\n",
      "17744/17744 [==============================] - 41s 2ms/step - loss: 5923.3967 - val_loss: 5685.8610\n"
     ]
    },
    {
     "data": {
      "text/plain": [
       "<keras.callbacks.History at 0x1a21f7ae48>"
      ]
     },
     "execution_count": 16,
     "metadata": {},
     "output_type": "execute_result"
    }
   ],
   "source": [
    "model.fit(\n",
    "    trainX,\n",
    "    trainY,\n",
    "    batch_size=500,\n",
    "    nb_epoch=1,\n",
    "    validation_split=0.05)"
   ]
  },
  {
   "cell_type": "code",
   "execution_count": 17,
   "metadata": {},
   "outputs": [],
   "source": [
    "test.shape\n",
    "testX, testY = create_dataset(test, look_back)\n",
    "\n"
   ]
  },
  {
   "cell_type": "code",
   "execution_count": 18,
   "metadata": {},
   "outputs": [
    {
     "name": "stdout",
     "output_type": "stream",
     "text": [
      "[[[ -22.925  -70.237    6.8  ]\n",
      "  [ -22.788  -70.195    5.6  ]\n",
      "  [ -23.005 -174.996    5.8  ]\n",
      "  [  -2.312  -77.838    6.8  ]\n",
      "  [ -22.84   -70.601    5.5  ]\n",
      "  [ -23.045  -70.287    5.5  ]\n",
      "  [ -23.059  -70.598    5.9  ]\n",
      "  [ -22.643  -66.323    6.   ]\n",
      "  [ -23.104  -70.55     5.7  ]\n",
      "  [ -21.185 -178.752    6.3  ]\n",
      "  [ -21.968  173.486    6.   ]\n",
      "  [  43.542 -127.414    5.8  ]\n",
      "  [ -22.791  -70.769    5.9  ]\n",
      "  [  -6.907  155.672    6.   ]\n",
      "  [ -29.987 -177.942    5.9  ]\n",
      "  [ -22.917  -70.483    6.1  ]\n",
      "  [ -17.824 -173.225    5.7  ]\n",
      "  [ -24.81   -68.472    5.8  ]\n",
      "  [  -5.757  147.098    6.8  ]\n",
      "  [   4.743   95.06     5.8  ]\n",
      "  [  -4.63   151.869    5.9  ]\n",
      "  [ -17.924 -174.683    5.5  ]\n",
      "  [ -17.85  -174.768    5.6  ]\n",
      "  [ -53.27     9.426    5.5  ]\n",
      "  [ -23.77   -69.012    5.6  ]\n",
      "  [ -16.116 -172.621    5.6  ]\n",
      "  [  -2.808  101.162    5.9  ]\n",
      "  [  -8.292  118.37     6.5  ]\n",
      "  [  -2.238  100.413    6.   ]\n",
      "  [  -8.224  118.467    6.5  ]\n",
      "  [  37.392  141.586    5.9  ]\n",
      "  [  15.28   -93.363    5.7  ]\n",
      "  [  18.654 -101.703    5.8  ]\n",
      "  [  16.058  119.838    5.9  ]\n",
      "  [ -10.95   162.149    6.6  ]\n",
      "  [ -36.756  -97.404    6.3  ]\n",
      "  [  14.944  -61.274    7.4  ]\n",
      "  [   1.981   97.883    5.9  ]\n",
      "  [  -6.374  148.463    5.9  ]\n",
      "  [  -6.452  148.623    5.7  ]\n",
      "  [   2.018  126.17     5.6  ]\n",
      "  [  22.692  -45.113    5.8  ]\n",
      "  [  12.263  125.386    5.9  ]\n",
      "  [  29.935  141.003    5.9  ]\n",
      "  [ -13.516  -76.656    5.6  ]\n",
      "  [ -56.205 -139.294    5.5  ]\n",
      "  [ -60.508  -52.382    5.8  ]\n",
      "  [  -7.558   37.646    5.6  ]\n",
      "  [  12.277  125.42     5.6  ]\n",
      "  [ -25.996 -177.514    7.8  ]]]\n"
     ]
    }
   ],
   "source": [
    "test1 = np.array(testX[0:1])\n",
    "print(test1[0:1][0:1])"
   ]
  },
  {
   "cell_type": "code",
   "execution_count": 19,
   "metadata": {},
   "outputs": [
    {
     "data": {
      "text/plain": [
       "array([[[ 0.24762242,  1.7794907 ,  0.5343713 ],\n",
       "        [ 0.67538327,  4.8310385 ,  1.5300336 ],\n",
       "        [ 1.281926  ,  8.40331   ,  2.7282987 ],\n",
       "        [ 1.851844  , 11.790063  ,  3.9321537 ],\n",
       "        [ 2.1467354 , 12.976338  ,  4.328166  ],\n",
       "        [ 2.205378  , 13.218896  ,  4.397273  ],\n",
       "        [ 2.2201407 , 13.269954  ,  4.412202  ],\n",
       "        [ 2.2243326 , 13.281108  ,  4.415213  ],\n",
       "        [ 2.226274  , 13.283981  ,  4.4147167 ],\n",
       "        [ 2.2293093 , 13.276801  ,  4.4195876 ],\n",
       "        [ 2.1803277 , 13.23174   ,  4.4611607 ],\n",
       "        [ 2.2322233 , 13.296384  ,  4.423997  ],\n",
       "        [ 2.2356057 , 13.297648  ,  4.417072  ],\n",
       "        [ 2.1999793 , 13.245337  ,  4.4618273 ],\n",
       "        [ 2.2372422 , 13.290797  ,  4.4193916 ],\n",
       "        [ 2.2463226 , 13.295712  ,  4.423523  ],\n",
       "        [ 2.2410321 , 13.298469  ,  4.4254284 ],\n",
       "        [ 2.2457616 , 13.297677  ,  4.4247966 ],\n",
       "        [ 2.197378  , 13.244098  ,  4.461168  ],\n",
       "        [ 2.2044823 , 13.247169  ,  4.469046  ],\n",
       "        [ 2.2034528 , 13.246543  ,  4.4681787 ],\n",
       "        [ 2.240349  , 13.290765  ,  4.421     ],\n",
       "        [ 2.244392  , 13.2952385 ,  4.42546   ],\n",
       "        [ 2.234087  , 13.255859  ,  4.431528  ],\n",
       "        [ 2.239428  , 13.28309   ,  4.42262   ],\n",
       "        [ 2.237027  , 13.294204  ,  4.4216847 ],\n",
       "        [ 2.19352   , 13.240874  ,  4.4675655 ],\n",
       "        [ 2.1965315 , 13.242047  ,  4.471111  ],\n",
       "        [ 2.198689  , 13.242803  ,  4.473274  ],\n",
       "        [ 2.1978314 , 13.241979  ,  4.472192  ],\n",
       "        [ 2.2082345 , 13.25117   ,  4.4728518 ],\n",
       "        [ 2.2484019 , 13.293893  ,  4.4268084 ],\n",
       "        [ 2.2496545 , 13.303812  ,  4.4175563 ],\n",
       "        [ 2.2097127 , 13.2523985 ,  4.4661684 ],\n",
       "        [ 2.2075422 , 13.248707  ,  4.4705296 ],\n",
       "        [ 2.2429492 , 13.289694  ,  4.422867  ],\n",
       "        [ 2.2418435 , 13.305481  ,  4.407744  ],\n",
       "        [ 2.2106593 , 13.252761  ,  4.462405  ],\n",
       "        [ 2.2079163 , 13.2498865 ,  4.4668994 ],\n",
       "        [ 2.2076988 , 13.249684  ,  4.4674916 ],\n",
       "        [ 2.208772  , 13.251021  ,  4.468922  ],\n",
       "        [ 2.2489223 , 13.301359  ,  4.436472  ],\n",
       "        [ 2.211885  , 13.253255  ,  4.4668207 ],\n",
       "        [ 2.214682  , 13.255498  ,  4.4698553 ],\n",
       "        [ 2.2502565 , 13.293397  ,  4.4216495 ],\n",
       "        [ 2.248689  , 13.289365  ,  4.423044  ],\n",
       "        [ 2.244727  , 13.276647  ,  4.416409  ],\n",
       "        [ 2.2188454 , 13.245684  ,  4.4511867 ],\n",
       "        [ 2.2145631 , 13.249375  ,  4.465822  ],\n",
       "        [ 2.2411969 , 13.289817  ,  4.4190702 ]]], dtype=float32)"
      ]
     },
     "execution_count": 19,
     "metadata": {},
     "output_type": "execute_result"
    }
   ],
   "source": [
    "model.predict(test1)"
   ]
  },
  {
   "cell_type": "code",
   "execution_count": null,
   "metadata": {},
   "outputs": [],
   "source": []
  }
 ],
 "metadata": {
  "kernelspec": {
   "display_name": "Python 3",
   "language": "python",
   "name": "python3"
  },
  "language_info": {
   "codemirror_mode": {
    "name": "ipython",
    "version": 3
   },
   "file_extension": ".py",
   "mimetype": "text/x-python",
   "name": "python",
   "nbconvert_exporter": "python",
   "pygments_lexer": "ipython3",
   "version": "3.6.5"
  }
 },
 "nbformat": 4,
 "nbformat_minor": 2
}
